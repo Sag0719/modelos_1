{
 "cells": [
  {
   "cell_type": "markdown",
   "source": [
    "Si los paquetes no estan instalados primero se deben instalar. "
   ],
   "metadata": {
    "collapsed": false
   }
  },
  {
   "cell_type": "code",
   "execution_count": null,
   "metadata": {
    "id": "Gd1y0fj3N-eG"
   },
   "outputs": [],
   "source": [
    "import os\n",
    "import numpy as np\n",
    "import pandas as pd\n",
    "import zipfile\n",
    "import kaggle"
   ]
  },
  {
   "cell_type": "markdown",
   "source": [
    "Extraer los datos con kaggle"
   ],
   "metadata": {
    "collapsed": false
   }
  },
  {
   "cell_type": "code",
   "outputs": [],
   "source": [
    "os.environ['KAGGLE_CONFIG_DIR'] = './kaggle-config' \n",
    "!kaggle competitions download -c udea-ai4eng-20241"
   ],
   "metadata": {
    "collapsed": false
   },
   "execution_count": null
  },
  {
   "cell_type": "code",
   "outputs": [],
   "source": [
    "path = \"udea-ai4eng-20241.zip\"\n",
    "directory = \"data/\"\n",
    "\n",
    "with zipfile.ZipFile(path, 'r') as zip_ref:\n",
    "    zip_ref.extractall(directory)"
   ],
   "metadata": {
    "collapsed": false
   },
   "execution_count": null
  },
  {
   "cell_type": "code",
   "execution_count": null,
   "metadata": {
    "colab": {
     "base_uri": "https://localhost:8080/",
     "height": 778
    },
    "id": "Eykn4euZOvKC",
    "outputId": "924ef77a-a480-4308-af29-ec4359fd9e46"
   },
   "outputs": [],
   "source": [
    "df = pd.read_csv('data/train.csv')\n",
    "df"
   ]
  },
  {
   "cell_type": "markdown",
   "metadata": {
    "id": "SmDmGFa7SI0w"
   },
   "source": [
    "#Identificar\n",
    "\n",
    "Identificar los datos que se puenden entrar en las diferentes columnas."
   ]
  },
  {
   "cell_type": "code",
   "execution_count": null,
   "metadata": {
    "colab": {
     "base_uri": "https://localhost:8080/"
    },
    "id": "slA0WY9dTBXs",
    "outputId": "7bc93a87-d88b-45c1-8d6a-669e682e40e1"
   },
   "outputs": [],
   "source": [
    "df['FAMI_ESTRATOVIVIENDA'].unique()"
   ]
  },
  {
   "cell_type": "code",
   "execution_count": null,
   "metadata": {
    "colab": {
     "base_uri": "https://localhost:8080/"
    },
    "id": "UzJ3VConTLpl",
    "outputId": "8e702736-8b1a-4371-e0ca-90c236ac0619"
   },
   "outputs": [],
   "source": [
    "df['ESTU_HORASSEMANATRABAJA'].unique()"
   ]
  },
  {
   "cell_type": "code",
   "execution_count": null,
   "metadata": {
    "colab": {
     "base_uri": "https://localhost:8080/",
     "height": 424
    },
    "id": "I9EjBGUbT-ST",
    "outputId": "934fa382-fdff-4468-d4bd-6bd8851e5bf9"
   },
   "outputs": [],
   "source": [
    "df[['ID','ESTU_PRGM_ACADEMICO', 'FAMI_ESTRATOVIVIENDA']]"
   ]
  },
  {
   "cell_type": "markdown",
   "metadata": {
    "id": "PvQKSowwSUXE"
   },
   "source": [
    "#Pequeños análisis\n",
    "\n",
    "Nos preguntamos cuántas carreras hay y cuales son"
   ]
  },
  {
   "cell_type": "code",
   "execution_count": null,
   "metadata": {
    "colab": {
     "base_uri": "https://localhost:8080/"
    },
    "id": "QEOuUBotYyeK",
    "outputId": "2eee066c-f089-4b72-a0f0-e6b527a12d47"
   },
   "outputs": [],
   "source": [
    "len(df['ESTU_PRGM_ACADEMICO'].unique())"
   ]
  },
  {
   "cell_type": "code",
   "execution_count": null,
   "metadata": {
    "id": "bMOwyZFDYzqa"
   },
   "outputs": [],
   "source": [
    "df['ESTU_PRGM_ACADEMICO'].unique()"
   ]
  },
  {
   "cell_type": "markdown",
   "metadata": {
    "id": "0TxE0zfhY2eV"
   },
   "source": [
    "Cuántos estudiantes hay por programa académico"
   ]
  },
  {
   "cell_type": "code",
   "execution_count": null,
   "metadata": {
    "id": "rGZlxbnTZMU1"
   },
   "outputs": [],
   "source": [
    "estudiantes_programa = df['ESTU_PRGM_ACADEMICO'].value_counts()"
   ]
  },
  {
   "cell_type": "markdown",
   "metadata": {
    "id": "6PqhcCg3ZUeK"
   },
   "source": [
    "Qué porcentaje de estudiantes estudian x carrera"
   ]
  },
  {
   "cell_type": "code",
   "execution_count": null,
   "metadata": {
    "colab": {
     "base_uri": "https://localhost:8080/"
    },
    "id": "qtJo4BKxZZOi",
    "outputId": "74702be1-848d-4e72-e962-6365f6589ec1"
   },
   "outputs": [],
   "source": [
    "estudiantes_programa['DERECHO'] / len(df) * 100"
   ]
  },
  {
   "cell_type": "markdown",
   "metadata": {
    "id": "cv8cPDo4Zxil"
   },
   "source": [
    "De cada programa académico cuantos estudiantes hay que estudian x cantidad de horas."
   ]
  },
  {
   "cell_type": "code",
   "execution_count": null,
   "metadata": {
    "colab": {
     "base_uri": "https://localhost:8080/"
    },
    "id": "MzYWcx6cWOVg",
    "outputId": "50db2532-570e-4be5-cb36-c9d803d418df"
   },
   "outputs": [],
   "source": [
    "df.groupby('ESTU_PRGM_ACADEMICO')['ESTU_HORASSEMANATRABAJA'].value_counts()"
   ]
  },
  {
   "cell_type": "markdown",
   "metadata": {
    "id": "mIlEkgqMSg7e"
   },
   "source": [
    "Departamentos con menos estudiantes"
   ]
  },
  {
   "cell_type": "code",
   "execution_count": null,
   "metadata": {
    "colab": {
     "base_uri": "https://localhost:8080/"
    },
    "id": "-bEfYulcUZNJ",
    "outputId": "60f49a25-96ba-45eb-c499-978ca1dce06c"
   },
   "outputs": [],
   "source": [
    "df['ESTU_PRGM_DEPARTAMENTO'].value_counts().nsmallest(5)"
   ]
  },
  {
   "cell_type": "markdown",
   "metadata": {
    "id": "c_ZnHDKWSlrn"
   },
   "source": [
    "Carreras preferidas por estratos, por estratos altos (5,6), por estrados medios(3,4) y estratos bajos(1,2)."
   ]
  },
  {
   "cell_type": "code",
   "execution_count": null,
   "metadata": {
    "colab": {
     "base_uri": "https://localhost:8080/"
    },
    "id": "ygKwClgIVPcR",
    "outputId": "4b98aeaf-3da6-4842-baf9-e18988890573"
   },
   "outputs": [],
   "source": [
    "estratos_12 = df[df['FAMI_ESTRATOVIVIENDA'].isin(['Estrato 1', 'Estrato 2'])]\n",
    "estratos_12['ESTU_PRGM_ACADEMICO'].value_counts().head(5)"
   ]
  },
  {
   "cell_type": "code",
   "execution_count": null,
   "metadata": {
    "colab": {
     "base_uri": "https://localhost:8080/"
    },
    "id": "Ov3ahz89WwiO",
    "outputId": "8fb86ebe-6399-40ba-98b1-86f2bd14c855"
   },
   "outputs": [],
   "source": [
    "estratos_34 = df[df['FAMI_ESTRATOVIVIENDA'].isin(['Estrato 3', 'Estrato 4'])]\n",
    "estratos_34['ESTU_PRGM_ACADEMICO'].value_counts().head(5)"
   ]
  },
  {
   "cell_type": "code",
   "execution_count": null,
   "metadata": {
    "colab": {
     "base_uri": "https://localhost:8080/"
    },
    "id": "RCCBysJmW1OO",
    "outputId": "1213fd5b-e8fa-47d2-d31c-07db92589802"
   },
   "outputs": [],
   "source": [
    "estratos_56 = df[df['FAMI_ESTRATOVIVIENDA'].isin(['Estrato 5', 'Estrato 6'])]\n",
    "estratos_56['ESTU_PRGM_ACADEMICO'].value_counts().head(5)"
   ]
  },
  {
   "cell_type": "markdown",
   "metadata": {
    "id": "tVGhA4t-Xc-y"
   },
   "source": [
    "Cantidad de estudiantes de estratos distintos a 1 y 2 que no tienen internet y su porcentaje"
   ]
  },
  {
   "cell_type": "code",
   "execution_count": null,
   "metadata": {
    "colab": {
     "base_uri": "https://localhost:8080/"
    },
    "id": "H6BTLyvearyU",
    "outputId": "3a09b805-c9e5-4011-bf10-3c8362734cff"
   },
   "outputs": [],
   "source": [
    "estudiantes_sin_internet = df[(df['FAMI_ESTRATOVIVIENDA'] != 'Estrato 1') & (df['FAMI_ESTRATOVIVIENDA'] != 'Estrato 2') & (df['FAMI_TIENEINTERNET'] == 'No')]\n",
    "len(estudiantes_sin_internet)"
   ]
  },
  {
   "cell_type": "code",
   "outputs": [],
   "source": [
    "len(estudiantes_sin_internet) / len(df[(df['FAMI_ESTRATOVIVIENDA'] != 'Estrato 1') & (df['FAMI_ESTRATOVIVIENDA'] != 'Estrato 2')]) * 100"
   ],
   "metadata": {
    "collapsed": false
   },
   "execution_count": null
  },
  {
   "cell_type": "markdown",
   "metadata": {
    "id": "SbCuDguSa8zC"
   },
   "source": [
    "Cantidad de studiantes de estratos 1 y 2, con internet y su porcentaje"
   ]
  },
  {
   "cell_type": "code",
   "execution_count": null,
   "metadata": {
    "colab": {
     "base_uri": "https://localhost:8080/"
    },
    "id": "SkMcURikbHzh",
    "outputId": "be86d829-5bdd-490e-f522-02e8f305b674"
   },
   "outputs": [],
   "source": [
    "len(estratos_12)"
   ]
  },
  {
   "cell_type": "code",
   "execution_count": null,
   "metadata": {
    "colab": {
     "base_uri": "https://localhost:8080/"
    },
    "id": "0uZyyZ8wa_-9",
    "outputId": "989c0916-dd56-44d2-d0e7-7f22e10d0092"
   },
   "outputs": [],
   "source": [
    "estrato_12_internet = (df[(df['FAMI_ESTRATOVIVIENDA'].isin(['Estrato 1', 'Estrato 2'])) & (df['FAMI_TIENEINTERNET'] == 'Si')])\n",
    "len(estrato_12_internet)"
   ]
  },
  {
   "cell_type": "code",
   "execution_count": null,
   "metadata": {
    "colab": {
     "base_uri": "https://localhost:8080/"
    },
    "id": "tJ0eAgI6bwJP",
    "outputId": "5bc5ee37-edb2-4abf-e955-79ea98a5d6a6"
   },
   "outputs": [],
   "source": [
    "len(estrato_12_internet) / len(estratos_12) * 100"
   ]
  }
 ],
 "metadata": {
  "colab": {
   "provenance": []
  },
  "kernelspec": {
   "name": "python3",
   "language": "python",
   "display_name": "Python 3 (ipykernel)"
  },
  "language_info": {
   "name": "python"
  }
 },
 "nbformat": 4,
 "nbformat_minor": 0
}
